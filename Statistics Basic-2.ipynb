{
 "cells": [
  {
   "cell_type": "code",
   "execution_count": 1,
   "id": "22379e5a-6f74-4a65-9247-5a64daaa5bbe",
   "metadata": {},
   "outputs": [],
   "source": [
    "# Q.1 \n",
    "\n",
    "# the three measures of central tendency are 1. Mean , 2. Median , 3. Mode "
   ]
  },
  {
   "cell_type": "code",
   "execution_count": 2,
   "id": "037c8ee1-dee4-474c-be87-3666fda4bd3b",
   "metadata": {},
   "outputs": [],
   "source": [
    "# Q.2 \n",
    "# Mean is the average value of the given observations. Median is the middle value of the given observations. Mode is the most repeated value in the given observation."
   ]
  },
  {
   "cell_type": "code",
   "execution_count": 6,
   "id": "8805fba1-5b36-4dfa-abfd-efeb49ce2e9e",
   "metadata": {},
   "outputs": [
    {
     "data": {
      "text/plain": [
       "(177.01875, 177.0, 178)"
      ]
     },
     "execution_count": 6,
     "metadata": {},
     "output_type": "execute_result"
    }
   ],
   "source": [
    "# Q.3 \n",
    "\n",
    "l = [178,177,176,177,178.2,178,175,179,180,175,178.9,176.2,177,172.5,178,176.5]\n",
    "import numpy as np \n",
    "from statistics import mode\n",
    "np.mean(l) , np.median(l) , mode(l)"
   ]
  },
  {
   "cell_type": "code",
   "execution_count": 7,
   "id": "0da19b1e-011a-4341-9df6-c1ed4efb462b",
   "metadata": {},
   "outputs": [
    {
     "data": {
      "text/plain": [
       "1.7885814036548633"
      ]
     },
     "execution_count": 7,
     "metadata": {},
     "output_type": "execute_result"
    }
   ],
   "source": [
    "# Q.4 \n",
    "\n",
    "df = [178,177,176,177,178.2,178,175,179,180,175,178.9,176.2,177,172.5,178,176.5]\n",
    "np.std(df)"
   ]
  },
  {
   "cell_type": "code",
   "execution_count": 8,
   "id": "aed45bcd-b421-4474-9f2d-10653af74d93",
   "metadata": {},
   "outputs": [],
   "source": [
    "# Q.5 \n",
    "# Example: 1, 3,5, 6, 7 => Range = 7 -1= 6. Variance: Deduct the mean from each data in the set, square each of them and add each square and finally divide them by the total no of values in the data set to get the variance."
   ]
  },
  {
   "cell_type": "code",
   "execution_count": 9,
   "id": "983bf96d-e1f4-44e4-a745-532fb5db03fb",
   "metadata": {},
   "outputs": [],
   "source": [
    "# Q.6 \n",
    "\n",
    "# A Venn diagram uses overlapping circles or other shapes to illustrate the logical relationships between two or more sets of items. Often, they serve to graphically organize things, highlighting how the items are similar and different."
   ]
  },
  {
   "cell_type": "code",
   "execution_count": 10,
   "id": "157be257-9936-4c25-a183-afe7966d5f88",
   "metadata": {},
   "outputs": [],
   "source": [
    "# Q.7 For the two given sets A = (2,3,4,5,6,7) & B = (0,2,6,8,10). Find:\n",
    "# (i) A B = (2,6)\n",
    "# (ii) A ⋃ B = (0,2,3,4,5,6,7,8,10)\n",
    " \n"
   ]
  },
  {
   "cell_type": "code",
   "execution_count": 11,
   "id": "3f804a50-3736-4c23-bdf9-241b2c647f8e",
   "metadata": {},
   "outputs": [],
   "source": [
    "# Q. 8 \n",
    "\n",
    "# Skewness is a measurement of the distortion of symmetrical distribution or asymmetry in a data set"
   ]
  },
  {
   "cell_type": "code",
   "execution_count": 12,
   "id": "d42e3049-dfa1-4e9e-a82f-eee96d290961",
   "metadata": {},
   "outputs": [],
   "source": [
    "# Q.9 \n",
    "# When the distribution is skewed to the right, the mean is often greater than the median"
   ]
  },
  {
   "cell_type": "code",
   "execution_count": 13,
   "id": "d4c290dd-70e6-4042-9bae-423c85b47161",
   "metadata": {},
   "outputs": [],
   "source": [
    "# Q.10 \n",
    "# Put simply, both covariance and correlation measure the relationship and the dependency between two variables. Covariance indicates the direction of the linear relationship between variables while correlation measures both the strength and direction of the linear relationship between two variables."
   ]
  },
  {
   "cell_type": "code",
   "execution_count": 14,
   "id": "b8219b8a-c298-4938-88f5-e5918ecb7f93",
   "metadata": {},
   "outputs": [],
   "source": [
    "# Q.11 \n",
    "\n",
    "# he general sample mean formula for calculating the sample mean is expressed as x̄ = ( Σ xi ) ÷ n. Here, x̄ denotes the average value of the samples or sample mean, xi refers all X sample values and 'n' stands for the number of sample terms in the given data.\n"
   ]
  },
  {
   "cell_type": "code",
   "execution_count": 15,
   "id": "82c99cbf-7d25-4c3c-9109-7f1822d7a893",
   "metadata": {},
   "outputs": [],
   "source": [
    "# Q.12 \n",
    "\n",
    "# Any normal distribution has a graph that is perfectly symmetric about a vertical line through its peak. Therefore, all measures of central tendency (most commonly, the mean, median, and mode) give the same answer: the x -value of the peak"
   ]
  },
  {
   "cell_type": "code",
   "execution_count": 16,
   "id": "8e12aa6b-566e-4f3e-8729-99a3135e120c",
   "metadata": {},
   "outputs": [],
   "source": [
    "# Q.13 \n",
    "# Covariance indicates the direction of the linear relationship between variables. Correlation measures both the strength and direction of the linear relationship between two variables."
   ]
  },
  {
   "cell_type": "code",
   "execution_count": 19,
   "id": "4101b1dd-0327-4f55-91cc-2e16238e4634",
   "metadata": {},
   "outputs": [
    {
     "data": {
      "text/plain": [
       "(6.222222222222222, 15.6)"
      ]
     },
     "execution_count": 19,
     "metadata": {},
     "output_type": "execute_result"
    }
   ],
   "source": [
    "# Q.14 \n",
    "\n",
    "# Outliers can pull the mean towards their extreme values\n",
    "l1 = [3,2,4,5,6,8,7,9,12]\n",
    "l2 = [3,2,4,5,6,8,7,9,12,100]\n",
    "np.mean(l1), np.mean(l2)"
   ]
  },
  {
   "cell_type": "code",
   "execution_count": null,
   "id": "38c9c164-2a93-4ea3-b6c6-552975ad829c",
   "metadata": {},
   "outputs": [],
   "source": []
  }
 ],
 "metadata": {
  "kernelspec": {
   "display_name": "Python 3 (ipykernel)",
   "language": "python",
   "name": "python3"
  },
  "language_info": {
   "codemirror_mode": {
    "name": "ipython",
    "version": 3
   },
   "file_extension": ".py",
   "mimetype": "text/x-python",
   "name": "python",
   "nbconvert_exporter": "python",
   "pygments_lexer": "ipython3",
   "version": "3.10.8"
  }
 },
 "nbformat": 4,
 "nbformat_minor": 5
}
